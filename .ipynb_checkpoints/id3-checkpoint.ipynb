{
 "cells": [
  {
   "cell_type": "code",
   "execution_count": 1,
   "metadata": {},
   "outputs": [],
   "source": [
    "import numpy as np\n",
    "import math\n",
    "import queue\n",
    "from time import clock\n"
   ]
  },
  {
   "cell_type": "code",
   "execution_count": 2,
   "metadata": {},
   "outputs": [],
   "source": [
    "train = np.loadtxt(\"pa2train.txt\")\n",
    "test = np.loadtxt(\"pa2test.txt\")\n",
    "validation = np.loadtxt(\"pa2validation.txt\")"
   ]
  },
  {
   "cell_type": "code",
   "execution_count": 3,
   "metadata": {},
   "outputs": [],
   "source": [
    "node_count = 0"
   ]
  },
  {
   "cell_type": "code",
   "execution_count": 65,
   "metadata": {},
   "outputs": [],
   "source": [
    "class Node:\n",
    "    def __init__(self):\n",
    "        self.data = []\n",
    "        # less than label?\n",
    "        self.less_eq = None\n",
    "        self.greater = None\n",
    "        self.label = None\n",
    "        self.decision = None\n",
    "        global node_count\n",
    "        node_count += 1"
   ]
  },
  {
   "cell_type": "code",
   "execution_count": 5,
   "metadata": {},
   "outputs": [],
   "source": [
    "def id_three(train):\n",
    "    root = Node()\n",
    "    root.data = train \n",
    "    impure = []\n",
    "    impure.append(root)\n",
    "    \n",
    "    \n",
    "    while impure:\n",
    "        n = impure[0]\n",
    "        impure.pop(0)\n",
    "        \n",
    "        if pure(n):\n",
    "            n.label= n.data[0][22]\n",
    "        else:\n",
    "            impure.extend(list(split_decision(n)))\n",
    "        \n",
    "    return root\n",
    "    "
   ]
  },
  {
   "cell_type": "code",
   "execution_count": 66,
   "metadata": {},
   "outputs": [],
   "source": [
    "def split_decision(n):\n",
    "    n.less_eq = Node()\n",
    "    n.greater = Node()\n",
    "\n",
    "    d = n.data\n",
    "    total = len(d)\n",
    "    # tuple (category, threshold)\n",
    "    most_gain = ()\n",
    "    index = -1\n",
    "    # essentially infinite\n",
    "    ent = np.inf\n",
    "    \n",
    "    \n",
    "    # find the best split\n",
    "    for cat in range(22):\n",
    "        # sort the data according category\n",
    "        c = d[d[:,cat].argsort()]\n",
    "\n",
    "        for x in range(len(c)-1):\n",
    "            # data points with the same value are skipped over\n",
    "            if c[x][cat] == c[x+1][cat]:\n",
    "                continue\n",
    "            \n",
    "            thresh = (c[x][cat] + c[x+1][cat])/2\n",
    "            b = ((x+1)/total)\n",
    "            t_ent = (b)*entropy(c[:x+1]) + (1-b)*entropy(c[x+1:])\n",
    "            \n",
    "    \n",
    "            if t_ent < ent:\n",
    "                ent = t_ent\n",
    "                most_gain = (cat, thresh)\n",
    "                index = x + 1\n",
    "    \n",
    "    # create child nodes\n",
    "    sorted_d = d[d[:,most_gain[0]].argsort()]\n",
    "    n.less_eq.data = sorted_d[:index]\n",
    "    n.greater.data = sorted_d[index:]\n",
    "    \n",
    "    # update parent\n",
    "    n.decision = most_gain\n",
    "    \n",
    "    return n.less_eq, n.greater"
   ]
  },
  {
   "cell_type": "code",
   "execution_count": 7,
   "metadata": {},
   "outputs": [],
   "source": [
    "def entropy(data):\n",
    "    pos = 0\n",
    "    neg = 0\n",
    "    total = len(data)\n",
    "    for x in data:\n",
    "        if x[22] == 1:\n",
    "            pos += 1\n",
    "        else:\n",
    "            neg += 1\n",
    "\n",
    "    if pos == 0 or neg == 0:\n",
    "        return 0\n",
    "        \n",
    "    ret = (pos/total)*math.log(pos/total)+(neg/total)*math.log(neg/total)\n",
    "    return -ret   "
   ]
  },
  {
   "cell_type": "code",
   "execution_count": 8,
   "metadata": {},
   "outputs": [],
   "source": [
    "def pure(node):\n",
    "    l = node.data[0][22]\n",
    "    \n",
    "    for i in node.data:\n",
    "        if l != i[22]:\n",
    "            return False\n",
    "    return True \n",
    "        "
   ]
  },
  {
   "cell_type": "code",
   "execution_count": 9,
   "metadata": {},
   "outputs": [],
   "source": [
    "def error(tree, data):\n",
    "    correct = 0\n",
    "    for point in data:\n",
    "        if point[22] == traverse(tree, point):\n",
    "            correct += 1\n",
    "    return 1 - (correct/len(data))\n",
    "            "
   ]
  },
  {
   "cell_type": "code",
   "execution_count": 10,
   "metadata": {},
   "outputs": [],
   "source": [
    "def traverse(node, point):\n",
    "    while node.label is None:\n",
    "        if point[node.decision[0]] < node.decision[1]:\n",
    "            node = node.less_eq\n",
    "        else: \n",
    "            node = node.greater\n",
    "    return node.label\n",
    "            "
   ]
  },
  {
   "cell_type": "code",
   "execution_count": 81,
   "metadata": {},
   "outputs": [],
   "source": [
    "def prune(tree, validation):\n",
    "    q = queue.Queue()\n",
    "    q.put((tree, validation))\n",
    "    \n",
    "    while not q.empty():\n",
    "        \n",
    "        node, data = q.get()\n",
    "        \n",
    "        majority, error_majority = major(data)\n",
    "        \n",
    "        if error_majority < error(node, data):\n",
    "\n",
    "            node.label = majority\n",
    "            node.decision = None\n",
    "            break\n",
    "            \n",
    "        if node.label is None:\n",
    "            # split data\n",
    "            less_eq_data = [point for point in data if point[node.decision[0]] <= node.decision[1]]\n",
    "            greater_data = [point for point in data if point[node.decision[0]] > node.decision[1]]\n",
    "\n",
    "            \n",
    "            q.put((node.less_eq, less_eq_data))\n",
    "            q.put((node.greater, greater_data))\n",
    "            \n",
    "        "
   ]
  },
  {
   "cell_type": "code",
   "execution_count": 82,
   "metadata": {},
   "outputs": [],
   "source": [
    "def major(data):\n",
    "    counter = 0 \n",
    "    majority = 0\n",
    "    \n",
    "    for point in data:\n",
    "        counter += point[22]\n",
    "    if counter > (len(data)/2):\n",
    "        majority = 1\n",
    "    else:\n",
    "        counter = len(data) - counter\n",
    "\n",
    "    return majority, 1-(counter/len(data))\n",
    "    "
   ]
  },
  {
   "cell_type": "code",
   "execution_count": 83,
   "metadata": {},
   "outputs": [
    {
     "name": "stdout",
     "output_type": "stream",
     "text": [
      "38.29915712494676\n"
     ]
    }
   ],
   "source": [
    "timer = clock() \n",
    "node_count =  0\n",
    "tree = id_three(train)\n",
    "print(clock() - timer)"
   ]
  },
  {
   "cell_type": "code",
   "execution_count": 84,
   "metadata": {},
   "outputs": [
    {
     "name": "stdout",
     "output_type": "stream",
     "text": [
      "0.0\n"
     ]
    }
   ],
   "source": [
    "train_err = error(tree, train)\n",
    "print(train_err)"
   ]
  },
  {
   "cell_type": "code",
   "execution_count": 85,
   "metadata": {
    "scrolled": true
   },
   "outputs": [
    {
     "name": "stdout",
     "output_type": "stream",
     "text": [
      "0.17300000000000004\n"
     ]
    }
   ],
   "source": [
    "test_err = error(tree, test)\n",
    "print(test_err)"
   ]
  },
  {
   "cell_type": "code",
   "execution_count": 86,
   "metadata": {},
   "outputs": [
    {
     "name": "stdout",
     "output_type": "stream",
     "text": [
      "0.122\n",
      "0.11699999999999999\n"
     ]
    }
   ],
   "source": [
    "# One iteration of pruning\n",
    "prune(tree, validation)\n",
    "valid_err = error(tree, validation)\n",
    "print(valid_err)\n",
    "test_err = error(tree, test)\n",
    "print(test_err)"
   ]
  },
  {
   "cell_type": "code",
   "execution_count": 87,
   "metadata": {},
   "outputs": [
    {
     "name": "stdout",
     "output_type": "stream",
     "text": [
      "0.10699999999999998\n",
      "0.10299999999999998\n"
     ]
    }
   ],
   "source": [
    "# 2nd iteration\n",
    "prune(tree, validation)\n",
    "valid_err = error(tree, validation)\n",
    "print(valid_err)\n",
    "test_err = error(tree, test)\n",
    "print(test_err)"
   ]
  },
  {
   "cell_type": "markdown",
   "metadata": {},
   "source": [
    "1. \n",
    "                                                (Feature 5, Threshold = 0.5) \n",
    "                                                        2000 Points\n",
    "                                           /                                     \\\n",
    "                  (Feature 1, Threshold = 415000)                             (Feature 5, Threshold = 1.5)\n",
    "                            1319 Points                                                681 Points\n",
    "                  /                         \\                                        /                      \\\n",
    " (Feature 17, Threshold = 2506.5)(Feature 21, Threshold = 208)   (Feature 20, Threshold = 584.5) (Feature 21, Threshold = 2006)\n",
    "               1284 Points                  35 Points                         292 Points                  389 Points\n",
    "                            \n",
    "                            \n",
    "2. The training error was 0 and the test error was 0.173\n",
    "\n",
    "3. First iteration the validation error was 0.122 and test error was 0.117.\n",
    "   The second ietration the validation error was 0.107 and the test error was 0.103\n",
    "   \n",
    "4. The first split was based on the payment delay in September so that is probably the most prominent feature that predicts        defaults."
   ]
  }
 ],
 "metadata": {
  "kernelspec": {
   "display_name": "Python 3",
   "language": "python",
   "name": "python3"
  },
  "language_info": {
   "codemirror_mode": {
    "name": "ipython",
    "version": 3
   },
   "file_extension": ".py",
   "mimetype": "text/x-python",
   "name": "python",
   "nbconvert_exporter": "python",
   "pygments_lexer": "ipython3",
   "version": "3.5.4"
  }
 },
 "nbformat": 4,
 "nbformat_minor": 2
}
